{
 "cells": [
  {
   "cell_type": "markdown",
   "metadata": {},
   "source": [
    "# Experience 3"
   ]
  },
  {
   "cell_type": "markdown",
   "metadata": {},
   "source": [
    "**Name**:  Tina Yung-Fang Tu\n",
    "**Time Spent**: 30 hr"
   ]
  },
  {
   "cell_type": "code",
   "execution_count": 496,
   "metadata": {},
   "outputs": [],
   "source": [
    "import numpy as np\n",
    "import pandas as pd\n",
    "import itertools as it"
   ]
  },
  {
   "cell_type": "code",
   "execution_count": 497,
   "metadata": {},
   "outputs": [],
   "source": [
    "# please set the path to your data directory here\n",
    "path = './EPI511 3/'\n",
    "\n",
    "# please use the following function (or something like it) to read files\n",
    "def pname(name):\n",
    "    '''Prepend the path to the filename'''\n",
    "    return path + '/' + name\n",
    "\n",
    "def popen(name):\n",
    "    '''Open file in the path'''\n",
    "    return open(pname(name))"
   ]
  },
  {
   "cell_type": "code",
   "execution_count": 498,
   "metadata": {},
   "outputs": [],
   "source": [
    "#################### functions to read in data ##################\n",
    "def read_snp(file):\n",
    "    '''Read a snp file into a pandas dataframe'''\n",
    "    return(pd.read_table(\n",
    "        file,\n",
    "        sep='\\s+', # columns are separated by whitespace\n",
    "        # names of the columns\n",
    "        names=[None, 'chromosome', 'morgans', 'position', 'ref', 'alt'],\n",
    "        index_col=0))\n",
    "\n",
    "SNPs = read_snp(path + 'HapMap3.snp') \n",
    "\n",
    "def get_chr_range(chromosome):\n",
    "    '''Returns the range of positions where SNPs for a chromosome are kept'''\n",
    "    filt = SNPs.query('chromosome=={}'.format(chromosome))\n",
    "    start = SNPs.index.get_loc(filt.iloc[0].name)\n",
    "    stop  = SNPs.index.get_loc(filt.iloc[-1].name) + 1\n",
    "    return(start, stop)\n",
    "\n",
    "def read_geno(file):\n",
    "    '''Reads a geno file into a masked numpy matrix'''\n",
    "    return(np.genfromtxt(\n",
    "        file,               # the file\n",
    "        dtype='uint8',      # read the data in as 1-byte integers\n",
    "        delimiter=1,        # 1-byte width data\n",
    "        missing_values=9,   # 9 indicates missing data\n",
    "        usemask=True        # return a masked array\n",
    "    ))\n",
    "\n",
    "def read_geno_pop_chr(pop, chromosome):\n",
    "    '''Reads a slice of a geno file into a masked numpy matrix'''\n",
    "    f = open(path + pop + '.geno')      # open the file\n",
    "    (start, stop) = get_chr_range(chromosome)\n",
    "    s = it.islice(f, start, stop) # slice the file only keeping SNPs of chr\n",
    "    return read_geno(s)"
   ]
  },
  {
   "cell_type": "markdown",
   "metadata": {},
   "source": [
    "## (1) $\\lambda_{GC}$ Correction"
   ]
  },
  {
   "cell_type": "markdown",
   "metadata": {},
   "source": [
    "Consider a hypothetical case-control association study involving the first 100 CEU samples and the first 100 YRI samples.  Label the first 60 CEU samples and 40 YRI samples as Cases, and the remaining samples as Controls.  Compute case-control association statistics for every SNP on chromosome 20 using the Armitage Trend Test.  Are association statistics inflated? What is λGC?  How does this compare to what would be expected given the FST between Case and Control populations and the #samples?  Apply Genomic Control to correct for stratification.  Are corrected association statistics inflated? What is λGC for the corrected statistics?  Repeat the above computations using only the first 50 CEU samples (first 30 are Cases, rest are Controls) and the first 50 YRI samples (first 20 are Cases, rest are Controls).  How do the results change?    "
   ]
  },
  {
   "cell_type": "markdown",
   "metadata": {},
   "source": [
    "### Solution"
   ]
  },
  {
   "cell_type": "code",
   "execution_count": 499,
   "metadata": {},
   "outputs": [
    {
     "data": {
      "text/plain": [
       "(18359, 112)"
      ]
     },
     "execution_count": 499,
     "metadata": {},
     "output_type": "execute_result"
    }
   ],
   "source": [
    "# Read CEU and YRI geno\n",
    "CEU_geno = read_geno_pop_chr('CEU', 20)\n",
    "YRI_geno = read_geno_pop_chr('YRI', 20)\n",
    "CEU_geno.shape"
   ]
  },
  {
   "cell_type": "code",
   "execution_count": 500,
   "metadata": {},
   "outputs": [
    {
     "name": "stdout",
     "output_type": "stream",
     "text": [
      "λGC: 2.014114917340724\n"
     ]
    }
   ],
   "source": [
    "# Define cases and controls\n",
    "CEU_geno_subset = CEU_geno[:, :100]  \n",
    "YRI_geno_subset = YRI_geno[:, :100]  \n",
    "\n",
    "geno_data = np.ma.hstack((CEU_geno_subset, YRI_geno_subset))\n",
    "labels = np.array([1] * 60 + [0] * 40 + [1] * 40 + [0] * 60)  \n",
    "\n",
    "def armitage_trend_test(genotype, phenotype):\n",
    "    # Remove missing data\n",
    "    valid = ~genotype.mask \n",
    "    valid_genotype = genotype[valid]\n",
    "    valid_phenotype = phenotype[valid] \n",
    "\n",
    "    if len(valid_genotype) == 0:\n",
    "        return np.nan\n",
    "    # Compute correlation coefficient\n",
    "    r = np.corrcoef(valid_genotype, valid_phenotype)[0, 1]\n",
    "    if np.isnan(r):\n",
    "        return np.nan\n",
    "    \n",
    "    # Compute chi-square statistic\n",
    "    N = len(valid_genotype)\n",
    "    return N * r**2\n",
    "\n",
    "\n",
    "# Calculate chi-square statistics\n",
    "results = np.array([armitage_trend_test(geno_data[i, :], labels) for i in range(geno_data.shape[0])])\n",
    "\n",
    "# Calculate median of observed chi-square statistics\n",
    "observed_median_chi_sq = np.median(results)\n",
    "\n",
    "# Compute λGC\n",
    "lambda_gc = observed_median_chi_sq / 0.455\n",
    "print(\"λGC:\", lambda_gc)"
   ]
  },
  {
   "cell_type": "code",
   "execution_count": 501,
   "metadata": {},
   "outputs": [
    {
     "name": "stdout",
     "output_type": "stream",
     "text": [
      "FST between CEU and YRI: 0.14985831303644273\n",
      "FST between cases and controls: 0.00599433252145771\n"
     ]
    }
   ],
   "source": [
    "def fst_est(pop1, pop2, chr): \n",
    "    pop1_geno = read_geno_pop_chr(pop1, chr)\n",
    "    pop2_geno = read_geno_pop_chr(pop2, chr)\n",
    "\n",
    "    # Get allele frequencies (returns '-1' if all values at a locus are missing)\n",
    "    pop1_af = pop1_geno.mean(axis=1).filled(-1) / 2\n",
    "    pop2_af = pop2_geno.mean(axis=1).filled(-1) / 2\n",
    "\n",
    "    # Select valid SNPs present in both populations\n",
    "    valid_snps = (pop1_af >= 0) & (pop2_af >= 0)\n",
    "\n",
    "    # Filter valid allele frequencies and genotypes\n",
    "    af1_filtered = pop1_af[valid_snps]\n",
    "    af2_filtered = pop2_af[valid_snps]\n",
    "    pop1_geno_valid = pop1_geno[valid_snps, :]\n",
    "    pop2_geno_valid = pop2_geno[valid_snps, :]\n",
    "\n",
    "    # Compute mean allele frequency of two populations\n",
    "    p = (af1_filtered + af2_filtered) / 2\n",
    "\n",
    "    # Compute sample sizes\n",
    "    n1 = np.sum(~pop1_geno_valid.mask, axis=1)\n",
    "    n2 = np.sum(~pop2_geno_valid.mask, axis=1)\n",
    "\n",
    "    # Compute Fst\n",
    "    fst = np.sum(((af1_filtered - af2_filtered) ** 2 - (1 / (2 * n1) + 1 / (2 * n2)) * p * (1 - p)) / np.sum(2 * p * (1 - p)))\n",
    "\n",
    "    return fst\n",
    "\n",
    "fst_total = fst_est('CEU', 'YRI', 20)\n",
    "print(\"FST between CEU and YRI:\", fst_total)\n",
    "print(\"FST between cases and controls:\", fst_total * 0.2 * 0.2)"
   ]
  },
  {
   "cell_type": "code",
   "execution_count": 502,
   "metadata": {},
   "outputs": [
    {
     "name": "stdout",
     "output_type": "stream",
     "text": [
      "Corrected λGC: 1.0\n"
     ]
    }
   ],
   "source": [
    "# Apply Genomic Control correction\n",
    "chi_sq_corrected = results / lambda_gc\n",
    "\n",
    "# Calculate the median of the corrected chi-square statistics\n",
    "median_corrected = np.median(chi_sq_corrected)\n",
    "lambda_gc_corrected = median_corrected / 0.455\n",
    "print(\"Corrected λGC:\", lambda_gc_corrected)"
   ]
  },
  {
   "cell_type": "code",
   "execution_count": 503,
   "metadata": {},
   "outputs": [
    {
     "name": "stdout",
     "output_type": "stream",
     "text": [
      "λGC: 1.4996375875830021\n"
     ]
    }
   ],
   "source": [
    "# Define cases and controls\n",
    "CEU_geno_subset2 = CEU_geno[:, :50]  \n",
    "YRI_geno_subset2 = YRI_geno[:, :50]  \n",
    "\n",
    "geno_data_2 = np.ma.hstack((CEU_geno_subset2, YRI_geno_subset2))  \n",
    "labels_2 = np.array([1] * 30 + [0] * 20 + [1] * 20 + [0] * 30)  \n",
    "\n",
    "# Calculate chi-square statistics\n",
    "results_2 = np.array([armitage_trend_test(geno_data_2[i, :], labels_2) for i in range(geno_data_2.shape[0])])\n",
    "\n",
    "# Calculate median of observed chi-square statistics\n",
    "observed_chi_sq_2 = np.median(results_2)\n",
    "\n",
    "# Compute λGC\n",
    "lambda_gc_2 = observed_chi_sq_2 / 0.455\n",
    "print(\"λGC:\", lambda_gc_2)"
   ]
  },
  {
   "cell_type": "markdown",
   "metadata": {},
   "source": [
    "*comments*\n",
    "\n",
    "The obtained inflation factor (λGC) of about 2.014, meaning that the chi‐square statistic is inflated. The FST between Case and Control populations given the samples are calculated through FST from the whole CEU and YRI population and the other directly from the samples. Given the FST (0.00599), we would expect λGC to be 1 + 200 * FST, which is around 2.199. Therefore, the λGC observed is still higher than expected. After applying Genomic Control to the chi-square statistics, the λGC would be exactly 1. \n",
    "\n",
    "For the reduced sample (50 CEU + 50 YRI), the computed inflation factor (λGC) is about 1.4996. This is lower than the previously observed λGC with the full set of samples because the inflation is proportional to the total sample size. "
   ]
  },
  {
   "cell_type": "markdown",
   "metadata": {},
   "source": [
    "## (2) Eigenvector Correction"
   ]
  },
  {
   "cell_type": "markdown",
   "metadata": {},
   "source": [
    "Consider a hypothetical eigenvector for the set of 200 samples from (1), which has value\n",
    "-1/sqrt(200) for each CEU sample and +1/sqrt(200) for each YRI sample.  Recompute chr20 association statistics from (1) by correcting for this eigenvector, instead of applying Genomic Control.  Are corrected association statistics inflated? What is λGC for the corrected statistics?"
   ]
  },
  {
   "cell_type": "markdown",
   "metadata": {},
   "source": [
    "### Solution"
   ]
  },
  {
   "cell_type": "code",
   "execution_count": 504,
   "metadata": {},
   "outputs": [
    {
     "name": "stdout",
     "output_type": "stream",
     "text": [
      "Adjusted median chi-square: 0.502933780385583\n",
      "Adjusted λGC: 1.1053489678804023\n"
     ]
    }
   ],
   "source": [
    "# Number of samples\n",
    "n_samples = 200\n",
    "\n",
    "# Define eigenvector\n",
    "eigenvector = np.concatenate((-np.ones(100), np.ones(100))) / np.sqrt(n_samples)\n",
    "\n",
    "def correct_for_eigenvector(genotypes, eigenvector):\n",
    "    eigenvector = eigenvector[:, np.newaxis]  # Reshape to (200, 1)\n",
    "\n",
    "    projection_coeff = np.ma.dot(genotypes, eigenvector) / np.dot(eigenvector.T, eigenvector)\n",
    "    projection_coeff = np.ma.masked_array(projection_coeff, mask=np.ma.getmaskarray(genotypes).any(axis=1))\n",
    "\n",
    "    projection_coeff_filled = projection_coeff.filled(0)  # Replace masked values with 0\n",
    "    corrected_genotypes = genotypes - np.dot(projection_coeff_filled, eigenvector.T)\n",
    "\n",
    "    return corrected_genotypes\n",
    "\n",
    "corrected_geno_data = correct_for_eigenvector(geno_data, eigenvector)\n",
    "\n",
    "# Apply the test to each SNP in corrected_geno_data\n",
    "corrected_chi_sq_results = np.array([armitage_trend_test(corrected_geno_data[i, :], labels) for i in range(corrected_geno_data.shape[0])])\n",
    "\n",
    "# Calculate median of observed chi-square statistics\n",
    "adjusted_median_chi_sq = np.median(corrected_chi_sq_results[~np.isnan(corrected_chi_sq_results)])  # Exclude NaN values\n",
    "print(\"Adjusted median chi-square:\", adjusted_median_chi_sq)\n",
    "\n",
    "# Compute λGC\n",
    "lambda_gc_adjusted = adjusted_median_chi_sq / 0.455\n",
    "print(\"Adjusted λGC:\", lambda_gc_adjusted)"
   ]
  },
  {
   "cell_type": "markdown",
   "metadata": {},
   "source": [
    "*comments*\n",
    "\n",
    "After eigenvector correction, the adjusted λGC 1.1053489678804023, which is very close to 1. This means that the population stratification is corrected by the eigenvector. "
   ]
  },
  {
   "cell_type": "markdown",
   "metadata": {},
   "source": [
    "## (3) Lactase Persistence"
   ]
  },
  {
   "cell_type": "markdown",
   "metadata": {},
   "source": [
    "Consider a hypothetical case-control association study of the lactase persistence phenotype involving all 112 CEU samples and 88 TSI samples.  Although this phenotype was not reported, it can be approximated by the genotype at SNP rs13404551, which is strongly correlated to the SNP rs4988235 that is known to perfectly predict lactase phenotype.  Specifically, define CEU or TSI individuals with genotype=0 or 1 at rs13404551 to be Cases, and remaining CEU or TSI individuals to be Controls.  Compute case-control association statistics for every SNP on chromosome 20 using the Armitage Trend Test.  Are association statistics inflated? What is λGC?  How does this compare to what would be expected given the FST between Case and Control populations and the #samples?  Does the chr20 SNP with highest association statistic have higher LD score than the chr20 SNP with lowest association statistic, and is this expected?  (Note: ok to use CEU data only and restrict to SNPs within ±50kb when computing LD scores.) Apply PCA and Structured Association strategies to correct for stratification.  Report the λGC for the corrected statistics in each case."
   ]
  },
  {
   "cell_type": "markdown",
   "metadata": {},
   "source": [
    "### Solution"
   ]
  },
  {
   "cell_type": "code",
   "execution_count": 505,
   "metadata": {},
   "outputs": [
    {
     "name": "stdout",
     "output_type": "stream",
     "text": [
      "CEU cases: 105, CEU controls: 7\n",
      "TSI cases: 38, TSI controls: 50\n"
     ]
    }
   ],
   "source": [
    "CEU_SNPs = read_snp(path + 'CEU.snp') \n",
    "TSI_SNPs = read_snp(path + 'TSI.snp') \n",
    "\n",
    "# Get the index of rs13404551 in the CEU genotype data for chromosome 2\n",
    "chromosome_2_snps_CEU = CEU_SNPs[CEU_SNPs['chromosome'] == 2]\n",
    "\n",
    "# Find the index of rs13404551 within chromosome 2\n",
    "rs13404551_index = chromosome_2_snps_CEU.index.get_loc('rs13404551')\n",
    "\n",
    "# Load the genotype data for chromosome 2\n",
    "CEU_geno_chr2 = read_geno_pop_chr('CEU', 2)\n",
    "TSI_geno_chr2 = read_geno_pop_chr('TSI', 2)\n",
    "\n",
    "CEU_rs13404551 = CEU_geno_chr2[rs13404551_index, :]\n",
    "TSI_rs13404551 = TSI_geno_chr2[rs13404551_index, :]\n",
    "\n",
    "combined_genotypes_rs13404551 = np.ma.hstack([CEU_rs13404551, TSI_rs13404551])\n",
    "\n",
    "# Cases: genotype 0 or 1, Controls: genotype 2\n",
    "labels_combined = np.where(combined_genotypes_rs13404551 <= 1, 1, 0)\n",
    "\n",
    "# Count CEU cases and controls\n",
    "CEU_labels = np.where(CEU_rs13404551 <= 1, 1, 0)\n",
    "num_CEU_cases = np.sum(CEU_labels == 1)\n",
    "num_CEU_controls = np.sum(CEU_labels == 0)\n",
    "\n",
    "# Count TSI cases and controls\n",
    "TSI_labels = np.where(TSI_rs13404551 <= 1, 1, 0)\n",
    "num_TSI_cases = np.sum(TSI_labels == 1)\n",
    "num_TSI_controls = np.sum(TSI_labels == 0)\n",
    "\n",
    "print(f\"CEU cases: {num_CEU_cases}, CEU controls: {num_CEU_controls}\")\n",
    "print(f\"TSI cases: {num_TSI_cases}, TSI controls: {num_TSI_controls}\")"
   ]
  },
  {
   "cell_type": "code",
   "execution_count": 506,
   "metadata": {},
   "outputs": [
    {
     "name": "stdout",
     "output_type": "stream",
     "text": [
      "Median chi-square statistics:  0.586452847483451\n",
      "λGC: 1.2889073571064855\n"
     ]
    }
   ],
   "source": [
    "TSI_geno = read_geno_pop_chr('TSI', 20)\n",
    "\n",
    "combined_geno_chr20 = np.ma.concatenate([CEU_geno, TSI_geno], axis=1)\n",
    "\n",
    "# Calculate chi-square statistics\n",
    "lactose_results = np.array([armitage_trend_test(combined_geno_chr20[i, :], labels_combined) for i in range(combined_geno_chr20.shape[0])])\n",
    "\n",
    "# Calculate median of observed chi-square statistics\n",
    "lactose_median_chi_sq = np.median(lactose_results)\n",
    "\n",
    "# Compute λGC\n",
    "lambda_gc_lactose = lactose_median_chi_sq / 0.455\n",
    "print('Median chi-square statistics: ', lactose_median_chi_sq)\n",
    "print(\"λGC:\", lambda_gc_lactose)"
   ]
  },
  {
   "cell_type": "code",
   "execution_count": 507,
   "metadata": {},
   "outputs": [],
   "source": [
    "def calculate_fst(case_geno, control_geno):\n",
    "    # Get allele frequencies for each SNP \n",
    "    case_af = case_geno.mean(axis=1).filled(-1) / 2\n",
    "    control_af = control_geno.mean(axis=1).filled(-1) / 2\n",
    "\n",
    "    # Select valid SNPs present in both groups (allele frequency is valid if not -1)\n",
    "    valid_snps = (case_af >= 0) & (control_af >= 0)\n",
    "\n",
    "    # Filter valid allele frequencies and genotype data\n",
    "    af_case = case_af[valid_snps]\n",
    "    af_control = control_af[valid_snps]\n",
    "    case_geno_valid = case_geno[valid_snps, :]\n",
    "    control_geno_valid = control_geno[valid_snps, :]\n",
    "\n",
    "    # Compute the average allele frequency of the two groups for each SNP\n",
    "    p = (af_case + af_control) / 2\n",
    "\n",
    "    mask_case = np.ma.getmaskarray(case_geno_valid)\n",
    "    mask_control = np.ma.getmaskarray(control_geno_valid)\n",
    "    n_case = np.sum(~mask_case, axis=1)\n",
    "    n_control = np.sum(~mask_control, axis=1)\n",
    "\n",
    "    # Compute Fst\n",
    "    fst = np.sum(((af_case - af_control) ** 2 - (1 / (2 * n_case) + 1 / (2 * n_control)) * p * (1 - p)) / np.sum(2 * p * (1 - p)))\n",
    "\n",
    "    return fst"
   ]
  },
  {
   "cell_type": "code",
   "execution_count": 508,
   "metadata": {},
   "outputs": [
    {
     "name": "stdout",
     "output_type": "stream",
     "text": [
      "FST between Cases and Controls for lactase persistence: 0.0015179402950575125\n",
      "Expected λGC based on Fst and N:  1.3035880590115025\n"
     ]
    }
   ],
   "source": [
    "# Ensure labels_combined correspond to these individuals (200 samples)\n",
    "case_lactose_geno = combined_geno_chr20[:, labels_combined == 1]  # SNPs for cases\n",
    "control_lactose_geno = combined_geno_chr20[:, labels_combined == 0]  # SNPs for controls\n",
    "\n",
    "fst_case_control_lactose = calculate_fst(case_lactose_geno, control_lactose_geno)\n",
    "print(\"FST between Cases and Controls for lactase persistence:\", fst_case_control_lactose)\n",
    "print('Expected λGC based on Fst and N: ', 1 + fst_case_control_lactose * 200)"
   ]
  },
  {
   "cell_type": "code",
   "execution_count": 509,
   "metadata": {},
   "outputs": [
    {
     "name": "stdout",
     "output_type": "stream",
     "text": [
      "Max association SNP index: 17503\n",
      "Min association SNP index: 4093\n",
      "Max association statistic: 19.018736104806216\n",
      "Min association statistic: 2.2688772364345377e-33\n"
     ]
    }
   ],
   "source": [
    "# Identify the SNP with highest and lowest association statistic\n",
    "max_association_snp_idx = np.argmax(lactose_results)\n",
    "min_association_snp_idx = np.argmin(lactose_results)\n",
    "\n",
    "max_association_stat = lactose_results[max_association_snp_idx]\n",
    "min_association_stat = lactose_results[min_association_snp_idx]\n",
    "\n",
    "print(\"Max association SNP index:\", max_association_snp_idx)\n",
    "print(\"Min association SNP index:\", min_association_snp_idx)\n",
    "print(\"Max association statistic:\", max_association_stat)\n",
    "print(\"Min association statistic:\", min_association_stat)"
   ]
  },
  {
   "cell_type": "code",
   "execution_count": 510,
   "metadata": {},
   "outputs": [],
   "source": [
    "def compute_r2(snp1, snp2):\n",
    "    # Use masks to filter valid data\n",
    "    valid = ~snp1.mask & ~snp2.mask\n",
    "    if np.sum(valid) < 2:\n",
    "        return np.nan\n",
    "\n",
    "    gA = snp1[valid].astype(float)\n",
    "    gB = snp2[valid].astype(float)\n",
    "    \n",
    "    if np.std(gA) == 0 or np.std(gB) == 0:\n",
    "        return np.nan\n",
    "    \n",
    "    # Genotype count for allele\n",
    "    gA_mean = np.mean(gA) \n",
    "    gB_mean = np.mean(gB) \n",
    "\n",
    "    Na = len(gA)\n",
    "    Nb = len(gB)\n",
    "\n",
    "    var_a = ((gA - gA_mean)**2).sum()/Na\n",
    "    var_b = ((gB - gB_mean)**2).sum()/Nb\n",
    "\n",
    "    # Compute r^2\n",
    "    numerator = ((gA *gB).mean() - (gA_mean * gB_mean))**2\n",
    "    denominator = var_a * var_b\n",
    "    if denominator == 0:\n",
    "        return np.nan\n",
    "    return numerator / denominator\n",
    "\n",
    "\n",
    "def compute_ld_score(geno_data, snp_idx, window_size=50000, snp_positions=None):\n",
    "    \n",
    "    # Get target SNP genotype\n",
    "    target_snp = geno_data[snp_idx, :]\n",
    "    \n",
    "    # If SNP positions are provided, find SNPs within ±window_size\n",
    "    if snp_positions is not None:\n",
    "        distance_mask = np.abs(snp_positions - snp_positions[snp_idx]) <= window_size\n",
    "        valid_indices = np.where(distance_mask)[0]  # Get indices of SNPs in range\n",
    "    else:\n",
    "        valid_indices = np.arange(geno_data.shape[0])  # Use all SNPs if no positions provided\n",
    "\n",
    "    num_snps_in_window = len(valid_indices) \n",
    "    # Compute r^2 for SNPs within the valid window\n",
    "    r_squared_values = np.array([compute_r2(target_snp, geno_data[i, :]) for i in valid_indices])\n",
    "\n",
    "    # Ensure SNP contributes its own LD score\n",
    "    r_squared_values[valid_indices == snp_idx] = 1.0\n",
    "\n",
    "    # Sum valid r^2 values to compute LD score\n",
    "    ld_score = np.nansum(r_squared_values)\n",
    "    \n",
    "    return ld_score"
   ]
  },
  {
   "cell_type": "code",
   "execution_count": 511,
   "metadata": {},
   "outputs": [
    {
     "name": "stdout",
     "output_type": "stream",
     "text": [
      "LD score near max association SNP: 6.546252768517539\n",
      "LD score near min association SNP: 1.9741579567250183\n"
     ]
    }
   ],
   "source": [
    "# Step 1: Identify max and min association SNPs\n",
    "max_association_snp_idx = np.argmax(lactose_results)\n",
    "min_association_snp_idx = np.argmin(lactose_results)\n",
    "\n",
    "# Step 2: Get SNP positions for chromosome 20\n",
    "chromosome = 20\n",
    "start, stop = get_chr_range(chromosome)\n",
    "snp_positions = SNPs.iloc[start:stop]['position'].values\n",
    "\n",
    "max_ld_score = compute_ld_score(CEU_geno, max_association_snp_idx, window_size=50000, snp_positions=snp_positions)\n",
    "min_ld_score = compute_ld_score(CEU_geno, min_association_snp_idx, window_size=50000, snp_positions=snp_positions)\n",
    "\n",
    "# Step 4: Compare and interpret results\n",
    "print(\"LD score near max association SNP:\", max_ld_score)\n",
    "print(\"LD score near min association SNP:\", min_ld_score)"
   ]
  },
  {
   "cell_type": "code",
   "execution_count": 512,
   "metadata": {},
   "outputs": [
    {
     "name": "stdout",
     "output_type": "stream",
     "text": [
      "Median chi-square after EIGEN correction: 0.4533902114239909\n",
      "Adjusted λGC: 0.9964620031296503\n"
     ]
    }
   ],
   "source": [
    "# Define eigenvector\n",
    "eigenvector = np.concatenate([-np.ones(112) / 112, np.ones(88) / 88])\n",
    "eigenvector_sq_sum = np.sum(eigenvector ** 2)\n",
    "\n",
    "copied_geno_chr20 = combined_geno_chr20.astype(float).copy()\n",
    "eigen_corrected_chr20 = correct_for_eigenvector(copied_geno_chr20, eigenvector)\n",
    "\n",
    "# Adjust the phenotype vector similarly\n",
    "eigen_pheno_proj = np.sum(eigenvector * labels_combined) / eigenvector_sq_sum\n",
    "eigen_pheno_adjusted = labels_combined - eigen_pheno_proj * eigenvector\n",
    "\n",
    "# Apply the test to each SNP in corrected_geno_data\n",
    "eigen_corrected_chr20_results = np.array([armitage_trend_test(eigen_corrected_chr20[i, :], eigen_pheno_adjusted) for i in range(eigen_corrected_chr20.shape[0])])\n",
    "\n",
    "# Calculate median of observed chi-square statistics\n",
    "eigen_corrected_chi_sq = np.median(eigen_corrected_chr20_results[~np.isnan(eigen_corrected_chr20_results)])  # Exclude NaN values\n",
    "print(\"Median chi-square after EIGEN correction:\", eigen_corrected_chi_sq)\n",
    "\n",
    "# Compute λGC\n",
    "eigen_corrected_lambda_gc = eigen_corrected_chi_sq/ 0.455\n",
    "print(\"Adjusted λGC:\", eigen_corrected_lambda_gc)"
   ]
  },
  {
   "cell_type": "code",
   "execution_count": 545,
   "metadata": {},
   "outputs": [
    {
     "name": "stdout",
     "output_type": "stream",
     "text": [
      "GC after Structured Association: 1.06383269155541\n"
     ]
    }
   ],
   "source": [
    "def armitage_trend_test_with_sign(genotypes, phenotype): \n",
    "    if np.ma.is_masked(genotypes):\n",
    "        valid_mask = ~genotypes.mask\n",
    "        g = genotypes.data[valid_mask]\n",
    "        y = phenotype[valid_mask]\n",
    "    else:\n",
    "        g = genotypes\n",
    "        y = phenotype\n",
    "    N = len(g)\n",
    "    r = np.corrcoef(g, y)[0, 1] \n",
    "    chi2 = N * (r ** 2)\n",
    "    return chi2, np.sign(r)\n",
    "\n",
    "num_snps = combined_geno_chr20.shape[0]\n",
    "\n",
    "chi2_ceu = np.zeros(num_snps)\n",
    "Z_ceu = np.zeros(num_snps)\n",
    "chi2_tsi = np.zeros(num_snps)\n",
    "Z_tsi = np.zeros(num_snps)\n",
    "\n",
    "for i in range(num_snps):\n",
    "    chi2_val, sign_val = armitage_trend_test_with_sign(CEU_geno[i, :], CEU_labels)\n",
    "    chi2_ceu[i] = chi2_val\n",
    "    Z_ceu[i] = np.sqrt(chi2_val) * sign_val\n",
    "    chi2_val, sign_val = armitage_trend_test_with_sign(TSI_geno[i, :], TSI_labels)\n",
    "    chi2_tsi[i] = chi2_val\n",
    "    Z_tsi[i] = np.sqrt(chi2_val) * sign_val\n",
    "\n",
    "w_ceu = np.sqrt(112)\n",
    "w_tsi = np.sqrt(88)\n",
    "Z_meta = (w_ceu * Z_ceu + w_tsi * Z_tsi) / np.sqrt(112 + 88)\n",
    "chi2_meta = Z_meta ** 2\n",
    "observed_median_meta = np.median(chi2_meta[~np.isnan(chi2_meta)])\n",
    "lambda_gc_meta = observed_median_meta / 0.455\n",
    "print(\"GC after Structured Association:\", lambda_gc_meta)"
   ]
  },
  {
   "cell_type": "markdown",
   "metadata": {},
   "source": [
    "*comments*\n",
    "\n",
    "For this hypothetical study, the λGC is 1.2889073571064855, which is slightly inflated, but is close to what we expected based on Fst and N (1.3035880590115025). SNPs with higher association statistic also have higher LD scores, and this is as expected. If a SNP is causal or near a causal variant, it will have a high association statistic because it is directly associated with the trait. Nearby SNPs in high LD with the causal variant will also show association. After EIGEN vector correction, the adjusted λGC is 0.9964620031296503, which is very close to 1. The structure association approach also corrected the λGC to approximately 1. "
   ]
  },
  {
   "cell_type": "markdown",
   "metadata": {},
   "source": [
    "## (4) "
   ]
  },
  {
   "cell_type": "markdown",
   "metadata": {},
   "source": [
    "Consider the SNP rs3131972 on chromosome 1.  Suppose that this is a causal SNP, and define 0 (of 2) CEU individuals with genotype 0 at this SNP + the first 10 (of 33) CEU individuals with genotype 1 at this SNP + the first 50 (of 77) CEU individuals with genotype 2 at this SNP to be Cases, and the other 52 CEU individuals to be Controls.  Define the first 28 (of 69) YRI individuals with genotype 0 at this SNP + the first 28 (of 39) YRI individuals with genotype 1 at this SNP + all 5 (of 5) YRI individuals with genotype 2 at this SNP to be Cases, and the remaining 52 YRI individuals to be Controls.  Now pretend that you don’t know which SNP is the causal SNP, but assume that there is exactly 1 causal SNP in this data.  (a) Using CEU data only, conduct a fine-mapping study at the locus.  What is the posterior probability of each nearby SNP (e.g. within 50kb of rs3131972, including rs3131972 itself) being causal?  (b) Using YRI data only, conduct a fine-mapping study at the locus.  What is the posterior probability of each nearby SNP being causal?  Compare to (a), and discuss.  (c) Using CEU + YRI data, conduct a fine-mapping study at the locus (you can just multiply the Bayes factors).  What is the posterior probability of each nearby SNP being causal?  Compare to (a) and (b), and discuss.   "
   ]
  },
  {
   "cell_type": "markdown",
   "metadata": {},
   "source": [
    "### Solution"
   ]
  },
  {
   "cell_type": "code",
   "execution_count": 525,
   "metadata": {},
   "outputs": [],
   "source": [
    "# Extract the SNP and index\n",
    "YRI_SNPs = read_snp(path + 'YRI.snp') \n",
    "\n",
    "# Get the index of rs13404551 in the CEU genotype data for chromosome 2\n",
    "chromosome_1_snps_YRI = YRI_SNPs[YRI_SNPs['chromosome'] == 1]\n",
    "rs3131972_index = chromosome_1_snps_YRI.index.get_loc('rs3131972')"
   ]
  },
  {
   "cell_type": "code",
   "execution_count": 526,
   "metadata": {},
   "outputs": [
    {
     "name": "stdout",
     "output_type": "stream",
     "text": [
      "CEU Cases: 60\n",
      "CEU Controls: 52\n",
      "YRI Cases: 61\n",
      "YRI Controls: 52\n"
     ]
    }
   ],
   "source": [
    "# Extract genotypes for rs3131972\n",
    "CEU_rs3131972 = CEU_geno[rs3131972_index, :]\n",
    "YRI_rs3131972 = YRI_geno[rs3131972_index, :]\n",
    "\n",
    "# Initialize labels (0 = Control, 1 = Case)\n",
    "CEU_labels = np.zeros(CEU_rs3131972.shape, dtype=int)\n",
    "YRI_labels = np.zeros(YRI_rs3131972.shape, dtype=int)\n",
    "\n",
    "# CEU case definition\n",
    "CEU_cases = []\n",
    "CEU_cases.extend(np.where(CEU_rs3131972 == 1)[0][:10])  # First 10 individuals with genotype 1\n",
    "CEU_cases.extend(np.where(CEU_rs3131972 == 2)[0][:50])  # First 50 individuals with genotype 2\n",
    "\n",
    "# YRI case definition\n",
    "YRI_cases = []\n",
    "YRI_cases.extend(np.where(YRI_rs3131972 == 0)[0][:28])  # First 28 individuals with genotype 0\n",
    "YRI_cases.extend(np.where(YRI_rs3131972 == 1)[0][:28])  # First 28 individuals with genotype 1\n",
    "YRI_cases.extend(np.where(YRI_rs3131972 == 2)[0][:5])   # All 5 individuals with genotype 2\n",
    "\n",
    "# Assign labels to cases\n",
    "CEU_labels[CEU_cases] = 1  # Cases in CEU\n",
    "YRI_labels[YRI_cases] = 1  # Cases in YRI\n",
    "\n",
    "# Define Controls for CEU and YRI (remaining individuals)\n",
    "CEU_controls = np.where(CEU_labels == 0)[0]\n",
    "YRI_controls = np.where(YRI_labels == 0)[0]\n",
    "\n",
    "# Combine CEU and YRI labels\n",
    "total_labels = np.concatenate([CEU_labels, YRI_labels])\n",
    "\n",
    "# Print case-control counts\n",
    "print(\"CEU Cases:\", np.sum(CEU_labels))\n",
    "print(\"CEU Controls:\", len(CEU_labels) - np.sum(CEU_labels))\n",
    "print(\"YRI Cases:\", np.sum(YRI_labels))\n",
    "print(\"YRI Controls:\", len(YRI_labels) - np.sum(YRI_labels))"
   ]
  },
  {
   "cell_type": "code",
   "execution_count": 527,
   "metadata": {},
   "outputs": [
    {
     "name": "stdout",
     "output_type": "stream",
     "text": [
      "Number of SNPs within 50kb: 6\n"
     ]
    }
   ],
   "source": [
    "CEU_geno_chr1 = read_geno_pop_chr('CEU', 1)\n",
    "YRI_geno_chr1 = read_geno_pop_chr('YRI', 1)\n",
    "\n",
    "total_geno_chr1 = np.hstack((CEU_geno_chr1, YRI_geno_chr1))\n",
    "\n",
    "# Get SNP positions for chromosome 1\n",
    "chromosome = 1  \n",
    "start, stop = get_chr_range(chromosome)\n",
    "snp_positions = SNPs.iloc[start:stop]['position'].values\n",
    "\n",
    "# Get the physical position of rs3131972\n",
    "rs3131972_position = snp_positions[rs3131972_index]\n",
    "\n",
    "# Create a mask for SNPs within ±50kb of rs3131972\n",
    "window_mask = (snp_positions >= (rs3131972_position - 50000)) & (snp_positions <= (rs3131972_position + 50000))\n",
    "window_indices = np.where(window_mask)[0]\n",
    "print(\"Number of SNPs within 50kb:\", len(window_indices))"
   ]
  },
  {
   "cell_type": "code",
   "execution_count": 547,
   "metadata": {},
   "outputs": [
    {
     "name": "stdout",
     "output_type": "stream",
     "text": [
      "=== CEU only ===\n",
      "Posterior probability for SNP 1, 0.2597280237210705\n",
      "Posterior probability for SNP 2, 0.7402719761538669\n",
      "Posterior probability for SNP 3, 3.413349227346625e-13\n",
      "Posterior probability for SNP 4, 4.45840590492611e-11\n",
      "Posterior probability for SNP 5, 7.36822496941617e-11\n",
      "Posterior probability for SNP 6, 6.45491950830921e-12\n",
      "=== YRI only ===\n",
      "Posterior probability for SNP 1, 0.9683957895514098\n",
      "Posterior probability for SNP 2, 0.03136714921893613\n",
      "Posterior probability for SNP 3, 9.301151656611182e-06\n",
      "Posterior probability for SNP 4, 0.00021242531315166345\n",
      "Posterior probability for SNP 5, 3.3239606328132306e-06\n",
      "Posterior probability for SNP 6, 1.2010804212850844e-05\n"
     ]
    }
   ],
   "source": [
    "# Define region geno\n",
    "CEU_region_geno = CEU_geno[0:6, ]  \n",
    "YRI_region_geno = YRI_geno[0:6, ]  \n",
    "\n",
    "CEU_region_labels = CEU_labels  \n",
    "YRI_region_labels = YRI_labels  \n",
    "\n",
    "def compute_bayes_factors(geno_matrix, labels):\n",
    "    n_snps, n_samples = geno_matrix.shape\n",
    "    BF = np.zeros(n_snps)\n",
    "    \n",
    "    for i in range(n_snps):\n",
    "        # Get genotype vector for SNP i\n",
    "        g = np.ma.asarray(geno_matrix[i, :])\n",
    "        \n",
    "        # Identify valid (non-masked) indices\n",
    "        valid_idx = np.where(~np.ma.getmaskarray(g))[0]\n",
    "        g_valid = g.data[valid_idx]\n",
    "        labels_valid = labels[valid_idx]\n",
    "        \n",
    "        # Identify case and control indices\n",
    "        case_idx = np.where(labels_valid == 1)[0]\n",
    "        ctrl_idx = np.where(labels_valid == 0)[0]\n",
    "        \n",
    "        n_case = len(case_idx)\n",
    "        n_ctrl = len(ctrl_idx)\n",
    "        if n_case == 0 or n_ctrl == 0:\n",
    "            BF[i] = np.nan\n",
    "            continue\n",
    "        \n",
    "        # Compute allele counts\n",
    "        var_case = np.sum(g_valid[case_idx])\n",
    "        ref_case = 2 * n_case - var_case\n",
    "        var_ctrl = np.sum(g_valid[ctrl_idx])\n",
    "        ref_ctrl = 2 * n_ctrl - var_ctrl\n",
    "        \n",
    "        var_all = var_case + var_ctrl\n",
    "        ref_all = ref_case + ref_ctrl\n",
    "        \n",
    "        total_case_alleles = var_case + ref_case\n",
    "        total_ctrl_alleles = var_ctrl + ref_ctrl\n",
    "        total_all_alleles = var_all + ref_all\n",
    "        \n",
    "        # Compute allele frequencies (avoiding log(0) issues)\n",
    "        p_case = var_case / total_case_alleles\n",
    "        p_ctrl = var_ctrl / total_ctrl_alleles\n",
    "        p_all = var_all / total_all_alleles\n",
    "        \n",
    "        # Compute log likelihoods\n",
    "        logL_M1 = (var_case * np.log(p_case) + ref_case * np.log(1 - p_case) +\n",
    "                   var_ctrl * np.log(p_ctrl) + ref_ctrl * np.log(1 - p_ctrl))\n",
    "        logL_M0 = (var_all * np.log(p_all) + ref_all * np.log(1 - p_all))\n",
    "        \n",
    "        logBF = logL_M1 - logL_M0\n",
    "        BF[i] = np.exp(logBF)\n",
    "    return BF\n",
    "\n",
    "BF_CEU = compute_bayes_factors(CEU_region_geno, CEU_region_labels)\n",
    "BF_YRI = compute_bayes_factors(YRI_region_geno, YRI_region_labels)\n",
    "\n",
    "def posterior_from_bf(bf_array):\n",
    "    return bf_array / bf_array.sum()\n",
    "\n",
    "post_CEU = posterior_from_bf(BF_CEU)\n",
    "post_YRI = posterior_from_bf(BF_YRI)\n",
    "\n",
    "print(\"=== CEU only ===\")\n",
    "for SNP in range(6):\n",
    "    print(f'Posterior probability for SNP {SNP+1}, {post_CEU[SNP]}')\n",
    "\n",
    "print(\"=== YRI only ===\")\n",
    "for SNP in range(6):\n",
    "    print(f'Posterior probability for SNP {SNP+1}, {post_YRI[SNP]}')"
   ]
  },
  {
   "cell_type": "code",
   "execution_count": 548,
   "metadata": {},
   "outputs": [
    {
     "name": "stdout",
     "output_type": "stream",
     "text": [
      "=== Combined Population ===\n",
      "Posterior probability for SNP 1, 0.9154828456203449\n",
      "Posterior probability for SNP 2, 0.08451715437961949\n",
      "Posterior probability for SNP 3, 1.1555691983681623e-17\n",
      "Posterior probability for SNP 4, 3.4471833210230594e-14\n",
      "Posterior probability for SNP 5, 8.914505482469829e-16\n",
      "Posterior probability for SNP 6, 2.821898742852324e-16\n"
     ]
    }
   ],
   "source": [
    "# Multiply BFs for a combined single-causal SNP analysis\n",
    "BF_combined = BF_CEU * BF_YRI\n",
    "post_combined = posterior_from_bf(BF_combined)\n",
    "\n",
    "print(\"=== Combined Population ===\")\n",
    "for SNP in range(6):\n",
    "    print(f'Posterior probability for SNP {SNP+1}, {post_combined[SNP]}')"
   ]
  },
  {
   "cell_type": "markdown",
   "metadata": {},
   "source": [
    "*comments*\n",
    "\n",
    "Looking at CEU data only, we can see that SNP1 and SNP2 have the highest posterior probabilites, which could be due to linkage disequilibrium in the CEU population. Looking at YRI population, we observe similar results but SNP1 now has very high posterior probability, which is also expected since African populations generally have lower LD, allowing finer resolution in mapping the causal SNP. The combined analysis still correctly identifies SNP1 as the most probable causal variant, showing that integrating populations improves inference. The probability might not be as high as what we see in YRI because the Bayes factor was influenced by the CEU population. "
   ]
  },
  {
   "cell_type": "markdown",
   "metadata": {},
   "source": [
    "## (5) "
   ]
  },
  {
   "cell_type": "markdown",
   "metadata": {},
   "source": [
    "For each SNP analyzed in (4) (e.g. within 50kb of rs3131972, including rs3131972 itself) compute the odds ratio in CEU and the odds ratio in YRI.  Do SNPs with large effect sizes in CEU have large effect sizes in YRI?  Regress log(odds ratio in YRI) vs. log(odds ratio in CEU) (without affine term) to provide a quantitative answer to this question.  Discuss."
   ]
  },
  {
   "cell_type": "code",
   "execution_count": 549,
   "metadata": {},
   "outputs": [],
   "source": [
    "# Compute odds ratios for a given window of SNPs\n",
    "def compute_odds_ratio_for_snp_window(geno, SNP_index, labels, window):\n",
    "    region_geno = geno[SNP_index:SNP_index + window, :]  # SNPs within the window\n",
    "    odds_ratios = np.ones(region_geno.shape[0])  # Initialize for storing ORs\n",
    "\n",
    "    for i in range(region_geno.shape[0]):\n",
    "        # Get the genotype data for SNP i in the window\n",
    "        genotypes = region_geno[i, :]\n",
    "        \n",
    "        valid_mask = ~genotypes.mask  # Masked individuals will be ignored\n",
    "        genotypes = genotypes[valid_mask]\n",
    "        curr_labels = labels[valid_mask]\n",
    "\n",
    "        if len(genotypes) == 0:\n",
    "            odds_ratios[i] = np.nan\n",
    "            continue  \n",
    "\n",
    "        # Split into case genotypes vs. control genotypes\n",
    "        case_geno = genotypes[curr_labels == 1]\n",
    "        ctrl_geno = genotypes[curr_labels == 0]\n",
    "\n",
    "        # Compute odds ratio for the current SNP\n",
    "        odds_ratios[i] = compute_odds_ratio(case_geno, ctrl_geno)\n",
    "    return odds_ratios\n",
    "\n",
    "# Function to compute odds ratio\n",
    "def compute_odds_ratio(genotypes_case, genotypes_control):\n",
    "\n",
    "    # Compute allele counts\n",
    "    var_case = np.sum(genotypes_case == 2) * 2 + np.sum(genotypes_case == 1)\n",
    "    ref_case = np.sum(genotypes_case == 0) * 2 + np.sum(genotypes_case == 1)\n",
    "\n",
    "    var_ctrl = np.sum(genotypes_control == 2) * 2 + np.sum(genotypes_control == 1) \n",
    "    ref_ctrl = np.sum(genotypes_control == 0) * 2 + np.sum(genotypes_control == 1) \n",
    "\n",
    "    odds_ratio = (var_case / var_ctrl) / (ref_case / ref_ctrl)\n",
    "    return odds_ratio"
   ]
  },
  {
   "cell_type": "code",
   "execution_count": 550,
   "metadata": {},
   "outputs": [
    {
     "name": "stdout",
     "output_type": "stream",
     "text": [
      "False False\n",
      "False False\n",
      "False False\n",
      "False False\n",
      "False False\n",
      "False False\n",
      "False False\n",
      "False False\n",
      "False False\n",
      "False False\n",
      "False False\n",
      "False False\n",
      "Odds Ratios in CEU for SNPs in window: [1.1126071  0.86554622 0.70652174 1.13909774 0.46907216 0.79028133]\n",
      "Odds Ratios in YRI for SNPs in window: [1.05933014 0.95764706 0.93176471 0.89348371 0.45714286 0.94024276]\n",
      "Slope of log(OR_YRI) vs. log(OR_CEU): 0.7883134143099462\n"
     ]
    }
   ],
   "source": [
    "window = len(window_indices)\n",
    "\n",
    "odds_ratio_ceu = compute_odds_ratio_for_snp_window(CEU_geno_chr1, rs3131972_index, CEU_labels, window)\n",
    "odds_ratio_yri = compute_odds_ratio_for_snp_window(YRI_geno_chr1, rs3131972_index, YRI_labels, window)\n",
    "# Print results\n",
    "print(\"Odds Ratios in CEU for SNPs in window:\", odds_ratio_ceu)\n",
    "print(\"Odds Ratios in YRI for SNPs in window:\", odds_ratio_yri)\n",
    "\n",
    "# Compute odds ratio regression\n",
    "def regress_log_odds_ratios(odds_ratios_ceu, odds_ratios_yri):\n",
    "    valid_indices = ~np.isnan(odds_ratios_ceu) & ~np.isnan(odds_ratios_yri)\n",
    "    log_or_ceu = np.log(odds_ratios_ceu[valid_indices])\n",
    "    log_or_yri = np.log(odds_ratios_yri[valid_indices])\n",
    "\n",
    "    beta = np.dot(log_or_ceu, log_or_yri) / np.dot(log_or_ceu, log_or_ceu)\n",
    "    return beta\n",
    "\n",
    "# Perform regression\n",
    "slope = regress_log_odds_ratios(odds_ratio_ceu, odds_ratio_yri)\n",
    "print(\"Slope of log(OR_YRI) vs. log(OR_CEU):\", slope)"
   ]
  },
  {
   "cell_type": "markdown",
   "metadata": {},
   "source": [
    "*comments*\n",
    "\n",
    "SNP1 (the causal SNP) has OR > 1 in both populations. The slope of log(OR_YRI) vs. log(OR_CEU) = 0.79 suggests that the odds ratios (ORs) in the YRI population are generally correlated with those in the CEU population but not perfectly. This could be due to that SNP is in weaker LD with the causal variant in YRI population compared to CEU, so the observed effect size in YRI was be attenuated. But in YRI population, SNP 1 is the only SNP that has OR > 1, further proving its greater abilitiy in inferring causal SNP. "
   ]
  }
 ],
 "metadata": {
  "anaconda-cloud": {},
  "kernelspec": {
   "display_name": "Python 3",
   "language": "python",
   "name": "python3"
  },
  "language_info": {
   "codemirror_mode": {
    "name": "ipython",
    "version": 3
   },
   "file_extension": ".py",
   "mimetype": "text/x-python",
   "name": "python",
   "nbconvert_exporter": "python",
   "pygments_lexer": "ipython3",
   "version": "3.9.6"
  }
 },
 "nbformat": 4,
 "nbformat_minor": 1
}
