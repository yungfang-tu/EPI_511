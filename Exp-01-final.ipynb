{
 "cells": [
  {
   "cell_type": "markdown",
   "metadata": {},
   "source": [
    "# Experience 1"
   ]
  },
  {
   "cell_type": "markdown",
   "metadata": {},
   "source": [
    "**Name**:  Tina Yung-Fang Tu\n",
    "**Time Spent**: 15 - 20 hr"
   ]
  },
  {
   "cell_type": "code",
   "execution_count": 94,
   "metadata": {},
   "outputs": [],
   "source": [
    "import numpy as np\n",
    "import pandas as pd\n",
    "import itertools as it"
   ]
  },
  {
   "cell_type": "code",
   "execution_count": 95,
   "metadata": {},
   "outputs": [],
   "source": [
    "# please set the path to your data directory here\n",
    "path = \"./EPI511/\"\n",
    "\n",
    "# please use the following function (or something like it) to read files\n",
    "def pname(filename):\n",
    "    '''Prepend the path to the filename'''\n",
    "    return path + '/' + filename\n",
    "\n",
    "def popen(filename):\n",
    "    '''Open file in the path'''\n",
    "    return open(pname(filename))"
   ]
  },
  {
   "cell_type": "code",
   "execution_count": 96,
   "metadata": {},
   "outputs": [],
   "source": [
    "################### functions to read in data ##################\n",
    "def read_snp(file):\n",
    "    '''Read a snp file into a pandas dataframe'''\n",
    "    return(pd.read_table(\n",
    "        file,\n",
    "        sep='\\s+', # columns are separated by whitespace\n",
    "        # names of the columns\n",
    "        names=[None, 'chromosome', 'morgans', 'position', 'ref', 'alt'],\n",
    "        index_col=0\n",
    "    ))\n",
    "\n",
    "SNPs = read_snp(path + 'HapMap3.snp') \n",
    "\n",
    "def get_chr_range(chromosome):\n",
    "    '''Returns the range of positions where SNPs for a chromosome are kept'''\n",
    "    filt = SNPs.query('chromosome=={}'.format(chromosome))\n",
    "    start = SNPs.index.get_loc(filt.iloc[0].name)\n",
    "    stop  = SNPs.index.get_loc(filt.iloc[-1].name) + 1\n",
    "    return(start, stop)\n",
    "\n",
    "def read_geno(file):\n",
    "    '''Reads a geno file into a masked numpy matrix'''\n",
    "    return(np.genfromtxt(\n",
    "        file,               # the file\n",
    "        dtype='uint8',      # read the data in as 1-byte integers\n",
    "        delimiter=1,        # 1-byte width data\n",
    "        missing_values=9,   # 9 indicates missing data\n",
    "        usemask=True        # return a masked array\n",
    "    ))\n",
    "\n",
    "\n",
    "def read_geno_pop_chr(pop, chromosome):\n",
    "    '''Reads a slice of a geno file into a masked numpy matrix'''\n",
    "    f = open(path + pop + '.geno')      # open the file\n",
    "    (start, stop) = get_chr_range(chromosome)\n",
    "    s = it.islice(f, start, stop) # slice the file only keeping SNPs of chr\n",
    "    return read_geno(s)"
   ]
  },
  {
   "cell_type": "code",
   "execution_count": 97,
   "metadata": {},
   "outputs": [
    {
     "name": "stdout",
     "output_type": "stream",
     "text": [
      "SNP 0:    0.42\n",
      "SNP 1:    0.088\n",
      "SNP 2:    0.158\n",
      "SNP 3:    0.19\n",
      "SNP 4:    0.27\n",
      "SNP 5:    0.129\n",
      "SNP 6:    0.088\n",
      "SNP 7:    0.128\n",
      "SNP 8:    0.08\n",
      "SNP 9:    0.295\n"
     ]
    }
   ],
   "source": [
    "######################## solving question 0 #########################\n",
    "\n",
    "# read genotypes from YRI ind. from chr 3 into masked numpy array\n",
    "geno = read_geno_pop_chr('YRI', 3)\n",
    "\n",
    "# get allele freq. (returns '-1' if all values at a locus are missing)\n",
    "af = geno.mean(axis=1).filled(-1) / 2\n",
    "\n",
    "# get minor allele frequencies for first 10 SNPs\n",
    "maf = af[0:10]; maf[maf > 0.5] = 1 - maf[maf > 0.5]\n",
    "\n",
    "# print out results\n",
    "for i, j in enumerate (maf):\n",
    "    print(\"SNP \" + str(i) + \":    \" + str(np.round(j,3)))\n"
   ]
  },
  {
   "cell_type": "markdown",
   "metadata": {},
   "source": [
    "## (1) $F_{ST}$"
   ]
  },
  {
   "cell_type": "markdown",
   "metadata": {},
   "source": [
    "Using common HapMap3 SNPs from chromosome 1, estimate $F_{ST}(CEU,YRI)$ using each of the two estimators described in Week 1 lecture notes.  Similarly, estimate $F_{ST}(CEU,CHB)$ and $F_{ST}(CHB,YRI)$ using each of the two estimators.  Note: for each SNP, only samples with valid (non-missing) data for that SNP should be included in the computation."
   ]
  },
  {
   "cell_type": "markdown",
   "metadata": {},
   "source": [
    "### Solution"
   ]
  },
  {
   "cell_type": "code",
   "execution_count": 98,
   "metadata": {},
   "outputs": [],
   "source": [
    "def fst_est1(pop1, pop2, chr): \n",
    "    pop1_geno = read_geno_pop_chr(pop1, chr)\n",
    "    pop2_geno = read_geno_pop_chr(pop2, chr)\n",
    "\n",
    "    # Get allele frequencies (returns '-1' if all values at a locus are missing)\n",
    "    pop1_af = pop1_geno.mean(axis=1).filled(-1) / 2\n",
    "    pop2_af = pop2_geno.mean(axis=1).filled(-1) / 2\n",
    "\n",
    "    # Select valid SNPs present in both populations\n",
    "    valid_snps = (pop1_af >= 0) & (pop2_af >= 0)\n",
    "\n",
    "    # Filter valid allele frequencies and genotypes\n",
    "    af1_filtered = pop1_af[valid_snps]\n",
    "    af2_filtered = pop2_af[valid_snps]\n",
    "    pop1_geno_valid = pop1_geno[valid_snps, :]\n",
    "    pop2_geno_valid = pop2_geno[valid_snps, :]\n",
    "\n",
    "    # Compute mean allele frequency of two populations\n",
    "    p = (af1_filtered + af2_filtered) / 2\n",
    "\n",
    "    # Compute sample sizes\n",
    "    n1 = np.sum(~pop1_geno_valid.mask, axis=1)\n",
    "    n2 = np.sum(~pop2_geno_valid.mask, axis=1)\n",
    "\n",
    "    # Compute Fst\n",
    "    fst = np.mean(((af1_filtered - af2_filtered) ** 2 - (1 / (2 * n1) + 1 / (2 * n2)) * p * (1 - p)) / (2 * p * (1 - p)))\n",
    "\n",
    "    return fst"
   ]
  },
  {
   "cell_type": "code",
   "execution_count": 99,
   "metadata": {},
   "outputs": [
    {
     "name": "stdout",
     "output_type": "stream",
     "text": [
      "FST(CEU, YRI) using approach 1 (mean) 0.13419004319009276\n",
      "FST(CEU, CHB) using approach 1 (mean) 0.0981403003155575\n",
      "FST(CHB, YRI) using approach 1 (mean) 0.15053565636515728\n"
     ]
    }
   ],
   "source": [
    "# Approach 1\n",
    "print('FST(CEU, YRI) using approach 1 (mean)', fst_est1('CEU', 'YRI', 1))\n",
    "print('FST(CEU, CHB) using approach 1 (mean)', fst_est1('CEU', 'CHB', 1))\n",
    "print('FST(CHB, YRI) using approach 1 (mean)', fst_est1('CHB', 'YRI', 1))"
   ]
  },
  {
   "cell_type": "code",
   "execution_count": 100,
   "metadata": {},
   "outputs": [],
   "source": [
    "# Approach 2\n",
    "def fst_est2(pop1, pop2, chr): \n",
    "    pop1_geno = read_geno_pop_chr(pop1, chr)\n",
    "    pop2_geno = read_geno_pop_chr(pop2, chr)\n",
    "\n",
    "    # Get allele frequencies (returns '-1' if all values at a locus are missing)\n",
    "    pop1_af = pop1_geno.mean(axis=1).filled(-1) / 2\n",
    "    pop2_af = pop2_geno.mean(axis=1).filled(-1) / 2\n",
    "\n",
    "    # Select valid SNPs present in both populations\n",
    "    valid_snps = (pop1_af >= 0) & (pop2_af >= 0)\n",
    "\n",
    "    # Filter valid allele frequencies and genotypes\n",
    "    af1_filtered = pop1_af[valid_snps]\n",
    "    af2_filtered = pop2_af[valid_snps]\n",
    "    pop1_geno_valid = pop1_geno[valid_snps, :]\n",
    "    pop2_geno_valid = pop2_geno[valid_snps, :]\n",
    "\n",
    "    # Compute mean allele frequency of two populations\n",
    "    p = (af1_filtered + af2_filtered) / 2\n",
    "\n",
    "    # Compute sample sizes\n",
    "    n1 = np.sum(~pop1_geno_valid.mask, axis=1)\n",
    "    n2 = np.sum(~pop2_geno_valid.mask, axis=1)\n",
    "\n",
    "    # Compute Fst\n",
    "    fst = np.sum(((af1_filtered - af2_filtered) ** 2 - (1 / (2 * n1) + 1 / (2 * n2)) * p * (1 - p)) / np.sum(2 * p * (1 - p)))\n",
    "\n",
    "    return fst"
   ]
  },
  {
   "cell_type": "code",
   "execution_count": 101,
   "metadata": {},
   "outputs": [
    {
     "name": "stdout",
     "output_type": "stream",
     "text": [
      "FST(CEU, YRI) using approach 2 (sum) 0.14618376166601865\n",
      "FST(CEU, CHB) using approach 2 (sum) 0.1062894870506411\n",
      "FST(CHB, YRI) using approach 2 (sum) 0.1656903964385152\n"
     ]
    }
   ],
   "source": [
    "# Approach 2 \n",
    "print('FST(CEU, YRI) using approach 2 (sum)', fst_est2('CEU', 'YRI', 1))\n",
    "print('FST(CEU, CHB) using approach 2 (sum)', fst_est2('CEU', 'CHB', 1))\n",
    "print('FST(CHB, YRI) using approach 2 (sum)', fst_est2('CHB', 'YRI', 1))"
   ]
  },
  {
   "cell_type": "markdown",
   "metadata": {},
   "source": [
    "*comments*\n",
    "Based on the result, CHB and YRI have the largest genetic distance, which is consistent with what we learned in class. Also, the second approach using the summation is more stable because we are calculating FST based on individual SNPs, rather than averaging the allele frequencies across all SNPs. "
   ]
  },
  {
   "cell_type": "markdown",
   "metadata": {},
   "source": [
    "## (2) $r^2$"
   ]
  },
  {
   "cell_type": "markdown",
   "metadata": {},
   "source": [
    "Using CEU data at common HapMap3 SNPs from chromosome 1, compute the average r2 between each pair of consecutive SNPs.  Repeat the analogous computation for CHB and YRI.\n",
    "Comment on the relative results for CEU, CHB and YRI populations.  Note: when computing the r2 between two SNPs, only samples that have valid (non-missing) data for both SNPs should be included in the computation of r2. "
   ]
  },
  {
   "cell_type": "markdown",
   "metadata": {},
   "source": [
    "### Solution"
   ]
  },
  {
   "cell_type": "code",
   "execution_count": 102,
   "metadata": {},
   "outputs": [],
   "source": [
    "def compute_r2(snp1, snp2):\n",
    "    # Use masks to filter valid data\n",
    "    valid = ~snp1.mask & ~snp2.mask\n",
    "    if np.sum(valid) < 2:\n",
    "        return np.nan\n",
    "\n",
    "    gA = snp1[valid].astype(float)\n",
    "    gB = snp2[valid].astype(float)\n",
    "    \n",
    "    if np.std(gA) == 0 or np.std(gB) == 0:\n",
    "        return np.nan\n",
    "    \n",
    "    # Genotype count for allele\n",
    "    gA_mean = np.mean(gA) \n",
    "    gB_mean = np.mean(gB) \n",
    "\n",
    "    Na = len(gA)\n",
    "    Nb = len(gB)\n",
    "\n",
    "    var_a = ((gA - gA_mean)**2).sum()/Na\n",
    "    var_b = ((gB - gB_mean)**2).sum()/Nb\n",
    "\n",
    "    # Compute r^2\n",
    "    numerator = ((gA *gB).mean() - (gA_mean * gB_mean))**2\n",
    "    denominator = var_a * var_b\n",
    "    if denominator == 0:\n",
    "        return np.nan\n",
    "    return numerator / denominator\n",
    "\n",
    "def average_r2(pop, chr):\n",
    "    geno_data = read_geno_pop_chr(pop, chr)\n",
    "    r2_values = []\n",
    "\n",
    "    for i in range(geno_data.shape[0] - 1):\n",
    "        snp1 = geno_data[i, :]\n",
    "        snp2 = geno_data[i + 1, :]\n",
    "\n",
    "        r2 = compute_r2(snp1, snp2)\n",
    "        if not np.isnan(r2):\n",
    "            r2_values.append(r2)\n",
    "\n",
    "    avg_r2 = np.mean(r2_values) if r2_values else np.nan\n",
    "    return avg_r2"
   ]
  },
  {
   "cell_type": "code",
   "execution_count": 103,
   "metadata": {},
   "outputs": [
    {
     "name": "stdout",
     "output_type": "stream",
     "text": [
      "Average r² between consecutive SNPs (CEU): 0.5395113735023291\n",
      "Average r² between consecutive SNPs (CHB): 0.559498364747758\n",
      "Average r² between consecutive SNPs (YRI): 0.377933491199528\n"
     ]
    }
   ],
   "source": [
    "print(\"Average r² between consecutive SNPs (CEU):\", average_r2(\"CEU\", 1))\n",
    "print(\"Average r² between consecutive SNPs (CHB):\", average_r2(\"CHB\", 1))\n",
    "print(\"Average r² between consecutive SNPs (YRI):\", average_r2(\"YRI\", 1))"
   ]
  },
  {
   "cell_type": "markdown",
   "metadata": {},
   "source": [
    "*comments*\n",
    "Using the HapMap3 SNPs, we found the r² values for CEU and CHB populations are relatively higher compared to r² for YRI, which is consistent with the fact that non-African descent have higher LD due to out-of Africa population bottleneck. In other words, the lower r² value in YRI population shows greater genetic diversity (more recombination events) and weaker correlations (lower LD) between neighboring SNPs. "
   ]
  },
  {
   "cell_type": "markdown",
   "metadata": {},
   "source": [
    "## (3) $r^2_{15}$"
   ]
  },
  {
   "cell_type": "markdown",
   "metadata": {},
   "source": [
    "Define CEU15 to be the set of the first 15 CEU individuals.  Repeat the computation of (2) using CEU15 instead of CEU, continuing to use data from chromosome 1.  Repeat the analogous computation for CHB15 and for YRI15.  Comment on the differences vs. (2).\n",
    "Note: any pair of SNPs in which either SNP is monomorphic (minor allele frequency = 0%) in the specific set of samples being analyzed should be omitted from the computation."
   ]
  },
  {
   "cell_type": "markdown",
   "metadata": {},
   "source": [
    "### Solution"
   ]
  },
  {
   "cell_type": "code",
   "execution_count": 104,
   "metadata": {},
   "outputs": [],
   "source": [
    "# Subsetting\n",
    "def subset_geno(pop, chr, n):\n",
    "    full_geno = read_geno_pop_chr(pop, chr)\n",
    "    sub_geno = full_geno[:, :n]\n",
    "    return sub_geno\n",
    "\n",
    "# r2 for subset genome\n",
    "def avg_r2_subset(sub_geno):\n",
    "    r2_values = []\n",
    "\n",
    "    for i in range(sub_geno.shape[0] - 1):\n",
    "        snp1 = sub_geno[i, :]\n",
    "        snp2 = sub_geno[i + 1, :]\n",
    "        \n",
    "        r2 = compute_r2(snp1, snp2)\n",
    "        if not np.isnan(r2):\n",
    "            r2_values.append(r2)\n",
    "    \n",
    "    avg_r2 = np.mean(r2_values) if r2_values else np.nan\n",
    "    return avg_r2"
   ]
  },
  {
   "cell_type": "code",
   "execution_count": 105,
   "metadata": {},
   "outputs": [
    {
     "name": "stdout",
     "output_type": "stream",
     "text": [
      "Average r² for CEU15 at chromosome 1:  0.5621711130349134\n",
      "Average r² for CHB15 at chromosome 1:  0.5798237624455671\n",
      "Average r² for YRI15 at chromosome 1:  0.40815801596949286\n"
     ]
    }
   ],
   "source": [
    "ceu15 = subset_geno('CEU', 1, 15)\n",
    "chb15 = subset_geno('CHB', 1, 15)\n",
    "yri15 = subset_geno('YRI', 1, 15)\n",
    "\n",
    "print(\"Average r² for CEU15 at chromosome 1: \", avg_r2_subset(ceu15))\n",
    "print(\"Average r² for CHB15 at chromosome 1: \", avg_r2_subset(chb15))\n",
    "print(\"Average r² for YRI15 at chromosome 1: \", avg_r2_subset(yri15))"
   ]
  },
  {
   "cell_type": "markdown",
   "metadata": {},
   "source": [
    "*comments*\n",
    "Here, we can see that the general trend of r² is the same when we use a subset of population. YRI still has the lowest r² (lowest LD, greatest diveristy) due to its ancestral role. The slightly higher values that we observe could be due to the fact that these individuals we sampled are more related or homogeneous. With smaller sample sizes, the estimates could be more prone to such bias. "
   ]
  },
  {
   "cell_type": "markdown",
   "metadata": {},
   "source": [
    "## (4) Armitage Trend Test"
   ]
  },
  {
   "cell_type": "markdown",
   "metadata": {},
   "source": [
    "Consider the first SNP (rs3131972) on chromosome 1.  Define the 2 CEU individuals with genotype 0 at this SNP + all 33 CEU individuals with genotype 1 at this SNP + the first 10 CEU individuals with genotype 2 at this SNP to be Cases, and the other 67 CEU individuals to be Controls.  Compute the Armitage Trend Test chisq statistic for CEU individuals at this SNP.   For each of the next 10 SNPs (“tag SNPs”) compute the r2 with rs3131972 in CEU and the Armitage Trend Test chisq statistic for CEU individuals at this SNP.  How do these compare?"
   ]
  },
  {
   "cell_type": "markdown",
   "metadata": {},
   "source": [
    "### Solution"
   ]
  },
  {
   "cell_type": "code",
   "execution_count": 106,
   "metadata": {},
   "outputs": [
    {
     "data": {
      "text/plain": [
       "<bound method NDFrame.head of             chromosome  morgans   position ref alt\n",
       "rs3131972            1      0.0     742584   G   A\n",
       "rs3131969            1      0.0     744045   G   A\n",
       "rs3131967            1      0.0     744197   C   T\n",
       "rs1048488            1      0.0     750775   T   C\n",
       "rs12562034           1      0.0     758311   G   A\n",
       "...                ...      ...        ...  ..  ..\n",
       "rs672932            23      0.0  154569169   G   A\n",
       "rs669237            23      0.0  154570039   G   T\n",
       "rs509981            23      0.0  154578239   C   T\n",
       "rs644138            23      0.0  154580775   A   G\n",
       "rs557132            23      0.0  154582606   C   T\n",
       "\n",
       "[718848 rows x 5 columns]>"
      ]
     },
     "execution_count": 106,
     "metadata": {},
     "output_type": "execute_result"
    }
   ],
   "source": [
    "CEU_SNPs = read_snp(path + 'CEU.snp') \n",
    "CEU_SNPs.head\n"
   ]
  },
  {
   "cell_type": "code",
   "execution_count": 107,
   "metadata": {},
   "outputs": [],
   "source": [
    "CEU_geno = read_geno_pop_chr('CEU', 1)\n",
    "genotypes_rs3131972 = CEU_geno[0, :]\n",
    "# print(genotypes_rs3131972)\n",
    "\n",
    "# Define cases and controls\n",
    "case_0 = np.where(genotypes_rs3131972 == 0)[0][:2]\n",
    "case_1 = np.where(genotypes_rs3131972 == 1)[0]\n",
    "case_2 = np.where(genotypes_rs3131972 == 2)[0][:10]\n",
    "\n",
    "cases = np.concatenate((case_0, case_1, case_2))\n",
    "\n",
    "# Define controls\n",
    "all_ind = np.arange(len(genotypes_rs3131972))\n",
    "controls = np.setdiff1d(all_ind, cases)"
   ]
  },
  {
   "cell_type": "code",
   "execution_count": 108,
   "metadata": {},
   "outputs": [],
   "source": [
    "# Define phenotype vector\n",
    "phenotype = np.zeros(len(genotypes_rs3131972))\n",
    "phenotype[cases] = 1"
   ]
  },
  {
   "cell_type": "code",
   "execution_count": 109,
   "metadata": {},
   "outputs": [],
   "source": [
    "def armitage_trend_stat(genotype, phenotype):\n",
    "    # Use masks to filter valid data\n",
    "    valid = ~genotype.mask\n",
    "    if not np.sum(valid):\n",
    "        return np.nan  \n",
    "    genotype = genotype[valid]\n",
    "    phenotype = phenotype[valid]\n",
    "    \n",
    "    if len(genotype) == 0:\n",
    "        return np.nan\n",
    "\n",
    "    r = np.corrcoef(genotype, phenotype)[0, 1]  \n",
    "    if np.isnan(r):\n",
    "        return np.nan\n",
    "\n",
    "    N = len(genotype)\n",
    "    return N * r ** 2"
   ]
  },
  {
   "cell_type": "code",
   "execution_count": 110,
   "metadata": {},
   "outputs": [
    {
     "name": "stdout",
     "output_type": "stream",
     "text": [
      "rs3131972 Armitage Trend Test chi-square = 70.83101320370945\n"
     ]
    }
   ],
   "source": [
    "# Compute for rs3131972\n",
    "chi2_rs3131972 = armitage_trend_stat(genotypes_rs3131972, phenotype)\n",
    "print(\"rs3131972 Armitage Trend Test chi-square =\", chi2_rs3131972)"
   ]
  },
  {
   "cell_type": "code",
   "execution_count": 111,
   "metadata": {},
   "outputs": [],
   "source": [
    "# Compute Armitage Trend Test for next 10 SNPs\n",
    "next_10_snps = CEU_geno[1: 11, :]\n",
    "r2_values = []\n",
    "\n",
    "for tag_snp_geno in next_10_snps:\n",
    "    # Calculate r^2 with rs3131972\n",
    "    r2 = compute_r2(CEU_geno[0, :], tag_snp_geno)\n",
    "    r2_values.append(r2)"
   ]
  },
  {
   "cell_type": "code",
   "execution_count": 118,
   "metadata": {},
   "outputs": [
    {
     "name": "stdout",
     "output_type": "stream",
     "text": [
      "SNP rs3131969: r^2 = 0.776656860657217 ; Amritage Trend Test chi-square = 51.60935350756532\n",
      "SNP rs3131967: r^2 = 0.6868546396912072 ; Amritage Trend Test chi-square = 43.051757210385695\n",
      "SNP rs1048488: r^2 = 0.9999999999999983 ; Amritage Trend Test chi-square = 70.04186046511624\n",
      "SNP rs12562034: r^2 = 0.0362357302812944 ; Amritage Trend Test chi-square = 3.6906324096528955\n",
      "SNP rs4040617: r^2 = 0.7477047903830414 ; Amritage Trend Test chi-square = 49.121338781864175\n",
      "SNP rs4970383: r^2 = 0.033781901882544804 ; Amritage Trend Test chi-square = 2.529664854024452\n",
      "SNP rs4475691: r^2 = 0.0002376535671140297 ; Amritage Trend Test chi-square = 0.20233583853780723\n",
      "SNP rs1806509: r^2 = 0.09094990701309916 ; Amritage Trend Test chi-square = 7.310671026766338\n",
      "SNP rs7537756: r^2 = 0.001498338730574989 ; Amritage Trend Test chi-square = 0.04200105002625064\n",
      "SNP rs2340587: r^2 = 0.009075395594167007 ; Amritage Trend Test chi-square = 0.5207807118254876\n"
     ]
    }
   ],
   "source": [
    "# Armitage Trend Test for next 10 snps\n",
    "\n",
    "for i in range(1, 11):\n",
    "    tag_snp = CEU_geno[i, :].astype(float)\n",
    "\n",
    "    # Compute r^2 between tag SNP and rs3131972\n",
    "    r2_tag_rs = compute_r2(genotypes_rs3131972, tag_snp)\n",
    "\n",
    "    # Compute Armitage Trend Test for the tag SNP\n",
    "    chi2_tag = armitage_trend_stat(tag_snp, phenotype)\n",
    "\n",
    "    # Extract SNP name from CEU_SNPs index\n",
    "    snp_name = CEU_SNPs.index[i]\n",
    "\n",
    "    print(f\"SNP {snp_name}: r^2 =\", r2_tag_rs,\n",
    "          \"; Amritage Trend Test chi-square =\", chi2_tag)"
   ]
  },
  {
   "cell_type": "markdown",
   "metadata": {},
   "source": [
    "*comments*\n",
    "Here, we defined the first SNP as the 'casual' SNP, which has a high correlation with the phenotype. As we move away from the causal SNP, we find that the r2 values show a decreasing trend. As r2 values decrease, we also observe that the Amritage Trend Test statistics decrease rapidly, meaning that for SNPs that are not that correlated with the causal SNP, it will be harder to discover strong association between the tag SNP and the phenotype. "
   ]
  },
  {
   "cell_type": "markdown",
   "metadata": {},
   "source": [
    "## (5) Unlinked SNPs"
   ]
  },
  {
   "cell_type": "markdown",
   "metadata": {},
   "source": [
    "Using CEU data at common HapMap3 SNPs from chromosome 1, compute the proportion of SNPs that do NOT have r2>0.8 with either the preceding or following HapMap3 SNP.  Repeat the computation for CHB.  Repeat the computation for YRI.  Compute the proportion of SNPs satisfying the property that in at least one of CEU and CHB they do NOT have r2>0.8 with either the preceding or following HapMap3 SNP.  Finally, compute the proportion of SNPs satisfying the property that in at least one of CEU, CHB and YRI they do NOT have r2>0.8 with either the preceding or following HapMap3 SNP.  Comment on the implications for fine-mapping.  "
   ]
  },
  {
   "cell_type": "markdown",
   "metadata": {},
   "source": [
    "### Solution"
   ]
  },
  {
   "cell_type": "code",
   "execution_count": 113,
   "metadata": {},
   "outputs": [],
   "source": [
    "CHB_geno = read_geno_pop_chr('CHB', 1)\n",
    "YRI_geno = read_geno_pop_chr('YRI', 1)\n",
    "\n",
    "# Compute proportion\n",
    "\n",
    "def compute_proportion(geno_data):\n",
    "    lower_r2 = 0\n",
    "    total_snps = geno_data.shape[0]\n",
    "\n",
    "    for i in range(1, total_snps - 1):\n",
    "        snp = geno_data[i, :]\n",
    "        prev = geno_data[i - 1, :]\n",
    "        next = geno_data[i + 1, :]\n",
    "\n",
    "        r2_prev = compute_r2(prev, snp)\n",
    "        r2_next = compute_r2(next, snp)\n",
    "        # Check if neither r2 is greater than 0.8\n",
    "        if r2_prev <= 0.8 and r2_next <= 0.8:\n",
    "            lower_r2 += 1\n",
    "    return lower_r2 / (total_snps - 2) if total_snps > 2 else np.nan\n"
   ]
  },
  {
   "cell_type": "code",
   "execution_count": 114,
   "metadata": {},
   "outputs": [
    {
     "name": "stdout",
     "output_type": "stream",
     "text": [
      "CEU Proportion: 0.46471124131401725\n",
      "CHB Proportion: 0.4324681588396063\n",
      "YRI Proportion: 0.6725317518443757\n"
     ]
    }
   ],
   "source": [
    "# Compute proportions for each population\n",
    "ceu_proportion = compute_proportion(CEU_geno)\n",
    "\n",
    "print(\"CEU Proportion:\", ceu_proportion)\n",
    "\n",
    "chb_proportion = compute_proportion(CHB_geno)\n",
    "yri_proportion = compute_proportion(YRI_geno)\n",
    "\n",
    "print(\"CHB Proportion:\", chb_proportion)\n",
    "print(\"YRI Proportion:\", yri_proportion)"
   ]
  },
  {
   "cell_type": "markdown",
   "metadata": {},
   "source": [
    "*comments* \n",
    "The higher proportion of unlinked SNPs in YRI population reflects the greater genetic diversity in African populations. In other words, SNPs in YRI population have weaker coorelation with nearby tags. The correlations between SNPs are similar among CEU and CHB populations in this dataset. "
   ]
  },
  {
   "cell_type": "code",
   "execution_count": 115,
   "metadata": {},
   "outputs": [
    {
     "name": "stdout",
     "output_type": "stream",
     "text": [
      "Proportion of SNPs satisfying the property: 0.5246780157553456\n"
     ]
    }
   ],
   "source": [
    "def compute_joint_proportion(ceu_geno, chb_geno):\n",
    "    lower_r2_joint = 0\n",
    "    total_snps = ceu_geno.shape[0] # Both population have 55983 SNPs\n",
    "\n",
    "    for i in range(1, total_snps - 1):\n",
    "        # Extract SNPs\n",
    "        ceu_snp = ceu_geno[i, :]\n",
    "        chb_snp = chb_geno[i, :]\n",
    "        \n",
    "        # Get adjacent SNPs for CEU and CHB\n",
    "        ceu_prev_snp, ceu_next_snp = ceu_geno[i - 1, :], ceu_geno[i + 1, :]\n",
    "        chb_prev_snp, chb_next_snp = chb_geno[i - 1, :], chb_geno[i + 1, :]\n",
    "\n",
    "        # Compute r^2 for CEU\n",
    "        r2_ceu_prev = compute_r2(ceu_prev_snp, ceu_snp)\n",
    "        r2_ceu_next = compute_r2(ceu_next_snp, ceu_snp)\n",
    "\n",
    "        # Compute r^2 for CHB\n",
    "        r2_chb_prev = compute_r2(chb_prev_snp, chb_snp)\n",
    "        r2_chb_next = compute_r2(chb_next_snp, chb_snp)\n",
    "\n",
    "        # Check the condition: at least one of CEU or CHB does not satisfy r^2 > 0.8\n",
    "        ceu_lowr2 = (r2_ceu_prev <= 0.8) and (r2_ceu_next <= 0.8)\n",
    "        chb_lowr2 = (r2_chb_prev <= 0.8) and (r2_chb_next <= 0.8)\n",
    "        \n",
    "        if ceu_lowr2 or chb_lowr2:\n",
    "            lower_r2_joint += 1\n",
    "\n",
    "    return lower_r2_joint / (total_snps - 2) \n",
    "\n",
    "# Compute the proportion\n",
    "proportion = compute_joint_proportion(CEU_geno, CHB_geno)\n",
    "print(\"Proportion of SNPs satisfying the property:\", proportion)\n"
   ]
  },
  {
   "cell_type": "markdown",
   "metadata": {},
   "source": [
    "*comments* \n",
    "When we consider 2 populations together, more that half of the SNPs are isolated or unlinked. This gives us a greater chance of localizing the true casual gene as compared to relying solely on one population. "
   ]
  },
  {
   "cell_type": "code",
   "execution_count": 116,
   "metadata": {},
   "outputs": [
    {
     "name": "stdout",
     "output_type": "stream",
     "text": [
      "Proportion of SNPs satisfying the property: 0.7108661867419303\n"
     ]
    }
   ],
   "source": [
    "def compute_all_proportion(ceu_geno, chb_geno, yri_geno):\n",
    "    lower_r2_joint = 0\n",
    "    total_snps = ceu_geno.shape[0] \n",
    "\n",
    "    for i in range(1, total_snps - 1):\n",
    "        # Extract SNPs\n",
    "        ceu_snp = ceu_geno[i, :]\n",
    "        chb_snp = chb_geno[i, :]\n",
    "        yri_snp = yri_geno[i, :]\n",
    "        \n",
    "        # Get adjacent SNPs for CEU and CHB\n",
    "        ceu_prev_snp, ceu_next_snp = ceu_geno[i - 1, :], ceu_geno[i + 1, :]\n",
    "        chb_prev_snp, chb_next_snp = chb_geno[i - 1, :], chb_geno[i + 1, :]\n",
    "        yri_prev_snp, yri_next_snp = yri_geno[i - 1, :], yri_geno[i + 1, :]\n",
    "\n",
    "        # Compute r^2 for CEU\n",
    "        r2_ceu_prev = compute_r2(ceu_prev_snp, ceu_snp)\n",
    "        r2_ceu_next = compute_r2(ceu_next_snp, ceu_snp)\n",
    "\n",
    "        # Compute r^2 for CHB\n",
    "        r2_chb_prev = compute_r2(chb_prev_snp, chb_snp)\n",
    "        r2_chb_next = compute_r2(chb_next_snp, chb_snp)\n",
    "\n",
    "        # Compute r^2 for YRI\n",
    "        r2_yri_prev = compute_r2(yri_prev_snp, yri_snp)\n",
    "        r2_yri_next = compute_r2(yri_next_snp, yri_snp)\n",
    "\n",
    "        # Check the condition: at least one of CEU or CHB does not satisfy r^2 > 0.8\n",
    "        ceu_lowr2 = (r2_ceu_prev <= 0.8) and (r2_ceu_next <= 0.8)\n",
    "        chb_lowr2 = (r2_chb_prev <= 0.8) and (r2_chb_next <= 0.8)\n",
    "        yri_lowr2 = (r2_yri_prev <= 0.8) and (r2_yri_next <= 0.8)\n",
    "        \n",
    "\n",
    "        if ceu_lowr2 or chb_lowr2 or yri_lowr2:\n",
    "            lower_r2_joint += 1\n",
    "\n",
    "    return lower_r2_joint / (total_snps - 2) # Ignoring the first and last snp for 3 populations\n",
    "\n",
    "# Compute the proportion\n",
    "proportion = compute_all_proportion(CEU_geno, CHB_geno, YRI_geno)\n",
    "print(\"Proportion of SNPs satisfying the property:\", proportion)"
   ]
  },
  {
   "cell_type": "markdown",
   "metadata": {},
   "source": [
    "*comments* \n",
    "When we pull together all three populations, especially when joinging the YRI population, the proportion of unlinked genes increases substantially. This means that combining information accross populations will improve fine-mapping resolution, because we would not end up with a large number of highly correlated candidate genes. "
   ]
  }
 ],
 "metadata": {
  "anaconda-cloud": {},
  "kernelspec": {
   "display_name": "Python 3 (ipykernel)",
   "language": "python",
   "name": "python3"
  },
  "language_info": {
   "codemirror_mode": {
    "name": "ipython",
    "version": 3
   },
   "file_extension": ".py",
   "mimetype": "text/x-python",
   "name": "python",
   "nbconvert_exporter": "python",
   "pygments_lexer": "ipython3",
   "version": "3.9.6"
  }
 },
 "nbformat": 4,
 "nbformat_minor": 4
}
